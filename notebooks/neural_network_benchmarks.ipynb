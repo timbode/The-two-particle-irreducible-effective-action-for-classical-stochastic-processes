{
 "cells": [
  {
   "cell_type": "markdown",
   "id": "2c631a9b",
   "metadata": {},
   "source": [
    "# Benchmarks for SDE with quadratic non-linearity and additive noise"
   ]
  },
  {
   "cell_type": "markdown",
   "id": "c2266ad6",
   "metadata": {},
   "source": [
    "Benchmark simulations for Fig. 8 of [The two-particle irreducible effective action for classical stochastic processes](https://doi.org/10.1088/1751-8121/ac73c6)."
   ]
  },
  {
   "cell_type": "code",
   "execution_count": null,
   "id": "cef8d8f1",
   "metadata": {},
   "outputs": [],
   "source": [
    "using DrWatson\n",
    "@quickactivate \"The Two-Particle Irreducible Effective Action for Classical Stochastic Processes\"\n",
    "\n",
    "using DifferentialEquations"
   ]
  },
  {
   "cell_type": "code",
   "execution_count": null,
   "id": "a90037f8",
   "metadata": {},
   "outputs": [],
   "source": [
    "# parameters\n",
    "α = 1.0\n",
    "D = 1.5\n",
    "β = 0.15"
   ]
  },
  {
   "cell_type": "code",
   "execution_count": null,
   "id": "5e38feab",
   "metadata": {},
   "outputs": [],
   "source": [
    "# time parameters\n",
    "T = 10.\n",
    "n = 2^10\n",
    "delta_t = T/n\n",
    "times = abs(α) .* range(0, length=n + 1, stop=T) |> collect;\n",
    "\n",
    "# initial conditions\n",
    "x₀ = -10 * ones(ComplexF64, 1, 1)\n",
    "F₀ = 2 * ones(ComplexF64, 1, 1);"
   ]
  },
  {
   "cell_type": "code",
   "execution_count": null,
   "id": "9f26f7e4",
   "metadata": {},
   "outputs": [],
   "source": [
    "f(x, p, t) = α * x + β * x^2\n",
    "g(x, p, t) = sqrt(D)\n",
    "prob = SDEProblem(f, g, x₀[1] |> real, (0.0, T));"
   ]
  },
  {
   "cell_type": "code",
   "execution_count": null,
   "id": "22ee6463",
   "metadata": {},
   "outputs": [],
   "source": [
    "# algo = SRIW1()\n",
    "algo = SRIW2()\n",
    "\n",
    "ensembleSize = 10\n",
    "batch = \"1\";"
   ]
  },
  {
   "cell_type": "markdown",
   "id": "04619028",
   "metadata": {},
   "source": [
    "## Single trajectory"
   ]
  },
  {
   "cell_type": "code",
   "execution_count": null,
   "id": "c48123f5",
   "metadata": {},
   "outputs": [],
   "source": [
    "using PyPlot\n",
    "PyPlot.plt.style.use(\"./paper.mplstyle\")"
   ]
  },
  {
   "cell_type": "code",
   "execution_count": null,
   "id": "6b0c8351",
   "metadata": {},
   "outputs": [],
   "source": [
    "test_sol = solve(prob, algo);\n",
    "\n",
    "figure(figsize=(4, 2.5))\n",
    "plot(test_sol.t, test_sol.u)\n",
    "\n",
    "xlim(0, T)\n",
    "ylim(x₀[1] |> real, 0)\n",
    "xlabel(\"\\$ \\\\alpha t \\$\")\n",
    "ylabel(\"\\$ x(t) \\$\")\n",
    "tight_layout()"
   ]
  },
  {
   "cell_type": "markdown",
   "id": "7090d88b",
   "metadata": {},
   "source": [
    "## Ensemble average"
   ]
  },
  {
   "cell_type": "code",
   "execution_count": null,
   "id": "d277f904",
   "metadata": {},
   "outputs": [],
   "source": [
    "using Distributions"
   ]
  },
  {
   "cell_type": "code",
   "execution_count": null,
   "id": "2f80b46e",
   "metadata": {},
   "outputs": [],
   "source": [
    "# sample initial conditions\n",
    "function prob_func(prob, i, repeat)\n",
    "    u0=(prob.u0 + rand(Normal(0, F₀[1, 1] |> real |> sqrt)))\n",
    "    remake(prob, u0=u0)\n",
    "end;"
   ]
  },
  {
   "cell_type": "code",
   "execution_count": null,
   "id": "d23927a6",
   "metadata": {},
   "outputs": [],
   "source": [
    "sim = solve(EnsembleProblem(prob, prob_func=prob_func), algo, EnsembleSerial(), trajectories=Int(ensembleSize));"
   ]
  },
  {
   "cell_type": "code",
   "execution_count": null,
   "id": "9e3cda58",
   "metadata": {},
   "outputs": [],
   "source": [
    "filter!(u -> (u.retcode |> String == \"Success\"), sim.u);"
   ]
  },
  {
   "cell_type": "code",
   "execution_count": null,
   "id": "ee117be5",
   "metadata": {},
   "outputs": [],
   "source": [
    "x_sim, F_sim = EnsembleAnalysis.timepoint_meanvar(sim, times)"
   ]
  },
  {
   "cell_type": "code",
   "execution_count": null,
   "id": "d48c174a",
   "metadata": {},
   "outputs": [],
   "source": [
    "# using HDF5\n",
    "# h5write(\"../data/test.h5\", ((algo |> typeof |> string) * \"_\" * string(ensembleSize))[1:end-2] * \"_\" * \"batch_\" * batch * \"/x_sim\", x_sim)\n",
    "# h5write(\"../data/test.h5\", ((algo |> typeof |> string) * \"_\" * string(ensembleSize))[1:end-2] * \"_\" * \"batch_\" * batch * \"/F_sim\", F_sim)"
   ]
  }
 ],
 "metadata": {
  "kernelspec": {
   "display_name": "Julia 1.7.2",
   "language": "julia",
   "name": "julia-1.7"
  },
  "language_info": {
   "file_extension": ".jl",
   "mimetype": "application/julia",
   "name": "julia",
   "version": "1.7.2"
  }
 },
 "nbformat": 4,
 "nbformat_minor": 5
}
